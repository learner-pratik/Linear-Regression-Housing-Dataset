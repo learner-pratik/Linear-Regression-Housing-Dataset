{
  "nbformat": 4,
  "nbformat_minor": 0,
  "metadata": {
    "colab": {
      "provenance": []
    },
    "kernelspec": {
      "name": "python3",
      "display_name": "Python 3"
    },
    "language_info": {
      "name": "python"
    }
  },
  "cells": [
    {
      "cell_type": "code",
      "execution_count": null,
      "metadata": {
        "id": "1r0mlB9bntGx"
      },
      "outputs": [],
      "source": [
        "# importing all the required libraries\n",
        "import numpy as np\n",
        "import pandas as pd\n",
        "import seaborn as sns\n",
        "\n",
        "import sklearn\n",
        "from sklearn.linear_model import LinearRegression\n",
        "from sklearn.linear_model import SGDRegressor\n",
        "from sklearn.model_selection import train_test_split\n",
        "from sklearn.preprocessing import StandardScaler\n",
        "from sklearn.metrics import r2_score"
      ]
    },
    {
      "cell_type": "code",
      "source": [
        "# loading the dataset into pandas dataframe\n",
        "!wget https://personal.utdallas.edu/~pxn210006/housing.csv\n",
        "housing_df = pd.read_csv('/content/housing.csv')"
      ],
      "metadata": {
        "id": "HoiE_ku6pzkG",
        "colab": {
          "base_uri": "https://localhost:8080/"
        },
        "outputId": "977df96e-02a2-4553-aa26-e91b56ebecac"
      },
      "execution_count": null,
      "outputs": [
        {
          "output_type": "stream",
          "name": "stdout",
          "text": [
            "--2022-09-27 02:11:56--  https://personal.utdallas.edu/~pxn210006/housing.csv\n",
            "Resolving personal.utdallas.edu (personal.utdallas.edu)... 129.110.46.112\n",
            "Connecting to personal.utdallas.edu (personal.utdallas.edu)|129.110.46.112|:443... connected.\n",
            "HTTP request sent, awaiting response... 200 OK\n",
            "Length: 1423529 (1.4M) [text/csv]\n",
            "Saving to: ‘housing.csv.1’\n",
            "\n",
            "housing.csv.1       100%[===================>]   1.36M  3.76MB/s    in 0.4s    \n",
            "\n",
            "2022-09-27 02:11:57 (3.76 MB/s) - ‘housing.csv.1’ saved [1423529/1423529]\n",
            "\n"
          ]
        }
      ]
    },
    {
      "cell_type": "code",
      "source": [
        "housing_df.head()"
      ],
      "metadata": {
        "colab": {
          "base_uri": "https://localhost:8080/",
          "height": 206
        },
        "id": "TFV0fUfhp69K",
        "outputId": "ceb40bf5-b6e0-4205-cc40-91a11662d2a9"
      },
      "execution_count": null,
      "outputs": [
        {
          "output_type": "execute_result",
          "data": {
            "text/plain": [
              "   longitude  latitude  housing_median_age  total_rooms  total_bedrooms  \\\n",
              "0    -122.23     37.88                41.0        880.0           129.0   \n",
              "1    -122.22     37.86                21.0       7099.0          1106.0   \n",
              "2    -122.24     37.85                52.0       1467.0           190.0   \n",
              "3    -122.25     37.85                52.0       1274.0           235.0   \n",
              "4    -122.25     37.85                52.0       1627.0           280.0   \n",
              "\n",
              "   population  households  median_income  median_house_value ocean_proximity  \n",
              "0       322.0       126.0         8.3252            452600.0        NEAR BAY  \n",
              "1      2401.0      1138.0         8.3014            358500.0        NEAR BAY  \n",
              "2       496.0       177.0         7.2574            352100.0        NEAR BAY  \n",
              "3       558.0       219.0         5.6431            341300.0        NEAR BAY  \n",
              "4       565.0       259.0         3.8462            342200.0        NEAR BAY  "
            ],
            "text/html": [
              "\n",
              "  <div id=\"df-16862084-efa4-437b-bd2e-bfc160f317ea\">\n",
              "    <div class=\"colab-df-container\">\n",
              "      <div>\n",
              "<style scoped>\n",
              "    .dataframe tbody tr th:only-of-type {\n",
              "        vertical-align: middle;\n",
              "    }\n",
              "\n",
              "    .dataframe tbody tr th {\n",
              "        vertical-align: top;\n",
              "    }\n",
              "\n",
              "    .dataframe thead th {\n",
              "        text-align: right;\n",
              "    }\n",
              "</style>\n",
              "<table border=\"1\" class=\"dataframe\">\n",
              "  <thead>\n",
              "    <tr style=\"text-align: right;\">\n",
              "      <th></th>\n",
              "      <th>longitude</th>\n",
              "      <th>latitude</th>\n",
              "      <th>housing_median_age</th>\n",
              "      <th>total_rooms</th>\n",
              "      <th>total_bedrooms</th>\n",
              "      <th>population</th>\n",
              "      <th>households</th>\n",
              "      <th>median_income</th>\n",
              "      <th>median_house_value</th>\n",
              "      <th>ocean_proximity</th>\n",
              "    </tr>\n",
              "  </thead>\n",
              "  <tbody>\n",
              "    <tr>\n",
              "      <th>0</th>\n",
              "      <td>-122.23</td>\n",
              "      <td>37.88</td>\n",
              "      <td>41.0</td>\n",
              "      <td>880.0</td>\n",
              "      <td>129.0</td>\n",
              "      <td>322.0</td>\n",
              "      <td>126.0</td>\n",
              "      <td>8.3252</td>\n",
              "      <td>452600.0</td>\n",
              "      <td>NEAR BAY</td>\n",
              "    </tr>\n",
              "    <tr>\n",
              "      <th>1</th>\n",
              "      <td>-122.22</td>\n",
              "      <td>37.86</td>\n",
              "      <td>21.0</td>\n",
              "      <td>7099.0</td>\n",
              "      <td>1106.0</td>\n",
              "      <td>2401.0</td>\n",
              "      <td>1138.0</td>\n",
              "      <td>8.3014</td>\n",
              "      <td>358500.0</td>\n",
              "      <td>NEAR BAY</td>\n",
              "    </tr>\n",
              "    <tr>\n",
              "      <th>2</th>\n",
              "      <td>-122.24</td>\n",
              "      <td>37.85</td>\n",
              "      <td>52.0</td>\n",
              "      <td>1467.0</td>\n",
              "      <td>190.0</td>\n",
              "      <td>496.0</td>\n",
              "      <td>177.0</td>\n",
              "      <td>7.2574</td>\n",
              "      <td>352100.0</td>\n",
              "      <td>NEAR BAY</td>\n",
              "    </tr>\n",
              "    <tr>\n",
              "      <th>3</th>\n",
              "      <td>-122.25</td>\n",
              "      <td>37.85</td>\n",
              "      <td>52.0</td>\n",
              "      <td>1274.0</td>\n",
              "      <td>235.0</td>\n",
              "      <td>558.0</td>\n",
              "      <td>219.0</td>\n",
              "      <td>5.6431</td>\n",
              "      <td>341300.0</td>\n",
              "      <td>NEAR BAY</td>\n",
              "    </tr>\n",
              "    <tr>\n",
              "      <th>4</th>\n",
              "      <td>-122.25</td>\n",
              "      <td>37.85</td>\n",
              "      <td>52.0</td>\n",
              "      <td>1627.0</td>\n",
              "      <td>280.0</td>\n",
              "      <td>565.0</td>\n",
              "      <td>259.0</td>\n",
              "      <td>3.8462</td>\n",
              "      <td>342200.0</td>\n",
              "      <td>NEAR BAY</td>\n",
              "    </tr>\n",
              "  </tbody>\n",
              "</table>\n",
              "</div>\n",
              "      <button class=\"colab-df-convert\" onclick=\"convertToInteractive('df-16862084-efa4-437b-bd2e-bfc160f317ea')\"\n",
              "              title=\"Convert this dataframe to an interactive table.\"\n",
              "              style=\"display:none;\">\n",
              "        \n",
              "  <svg xmlns=\"http://www.w3.org/2000/svg\" height=\"24px\"viewBox=\"0 0 24 24\"\n",
              "       width=\"24px\">\n",
              "    <path d=\"M0 0h24v24H0V0z\" fill=\"none\"/>\n",
              "    <path d=\"M18.56 5.44l.94 2.06.94-2.06 2.06-.94-2.06-.94-.94-2.06-.94 2.06-2.06.94zm-11 1L8.5 8.5l.94-2.06 2.06-.94-2.06-.94L8.5 2.5l-.94 2.06-2.06.94zm10 10l.94 2.06.94-2.06 2.06-.94-2.06-.94-.94-2.06-.94 2.06-2.06.94z\"/><path d=\"M17.41 7.96l-1.37-1.37c-.4-.4-.92-.59-1.43-.59-.52 0-1.04.2-1.43.59L10.3 9.45l-7.72 7.72c-.78.78-.78 2.05 0 2.83L4 21.41c.39.39.9.59 1.41.59.51 0 1.02-.2 1.41-.59l7.78-7.78 2.81-2.81c.8-.78.8-2.07 0-2.86zM5.41 20L4 18.59l7.72-7.72 1.47 1.35L5.41 20z\"/>\n",
              "  </svg>\n",
              "      </button>\n",
              "      \n",
              "  <style>\n",
              "    .colab-df-container {\n",
              "      display:flex;\n",
              "      flex-wrap:wrap;\n",
              "      gap: 12px;\n",
              "    }\n",
              "\n",
              "    .colab-df-convert {\n",
              "      background-color: #E8F0FE;\n",
              "      border: none;\n",
              "      border-radius: 50%;\n",
              "      cursor: pointer;\n",
              "      display: none;\n",
              "      fill: #1967D2;\n",
              "      height: 32px;\n",
              "      padding: 0 0 0 0;\n",
              "      width: 32px;\n",
              "    }\n",
              "\n",
              "    .colab-df-convert:hover {\n",
              "      background-color: #E2EBFA;\n",
              "      box-shadow: 0px 1px 2px rgba(60, 64, 67, 0.3), 0px 1px 3px 1px rgba(60, 64, 67, 0.15);\n",
              "      fill: #174EA6;\n",
              "    }\n",
              "\n",
              "    [theme=dark] .colab-df-convert {\n",
              "      background-color: #3B4455;\n",
              "      fill: #D2E3FC;\n",
              "    }\n",
              "\n",
              "    [theme=dark] .colab-df-convert:hover {\n",
              "      background-color: #434B5C;\n",
              "      box-shadow: 0px 1px 3px 1px rgba(0, 0, 0, 0.15);\n",
              "      filter: drop-shadow(0px 1px 2px rgba(0, 0, 0, 0.3));\n",
              "      fill: #FFFFFF;\n",
              "    }\n",
              "  </style>\n",
              "\n",
              "      <script>\n",
              "        const buttonEl =\n",
              "          document.querySelector('#df-16862084-efa4-437b-bd2e-bfc160f317ea button.colab-df-convert');\n",
              "        buttonEl.style.display =\n",
              "          google.colab.kernel.accessAllowed ? 'block' : 'none';\n",
              "\n",
              "        async function convertToInteractive(key) {\n",
              "          const element = document.querySelector('#df-16862084-efa4-437b-bd2e-bfc160f317ea');\n",
              "          const dataTable =\n",
              "            await google.colab.kernel.invokeFunction('convertToInteractive',\n",
              "                                                     [key], {});\n",
              "          if (!dataTable) return;\n",
              "\n",
              "          const docLinkHtml = 'Like what you see? Visit the ' +\n",
              "            '<a target=\"_blank\" href=https://colab.research.google.com/notebooks/data_table.ipynb>data table notebook</a>'\n",
              "            + ' to learn more about interactive tables.';\n",
              "          element.innerHTML = '';\n",
              "          dataTable['output_type'] = 'display_data';\n",
              "          await google.colab.output.renderOutput(dataTable, element);\n",
              "          const docLink = document.createElement('div');\n",
              "          docLink.innerHTML = docLinkHtml;\n",
              "          element.appendChild(docLink);\n",
              "        }\n",
              "      </script>\n",
              "    </div>\n",
              "  </div>\n",
              "  "
            ]
          },
          "metadata": {},
          "execution_count": 5
        }
      ]
    },
    {
      "cell_type": "code",
      "source": [
        "housing_df.sample(5)"
      ],
      "metadata": {
        "colab": {
          "base_uri": "https://localhost:8080/",
          "height": 206
        },
        "id": "QjbSNSBWp-Yx",
        "outputId": "6719ae4f-409b-4d72-deb8-580bef84e482"
      },
      "execution_count": null,
      "outputs": [
        {
          "output_type": "execute_result",
          "data": {
            "text/plain": [
              "       longitude  latitude  housing_median_age  total_rooms  total_bedrooms  \\\n",
              "16077    -122.48     37.74                52.0       2841.0           517.0   \n",
              "15118    -116.95     32.84                31.0       1307.0             NaN   \n",
              "4605     -118.33     34.07                52.0       2248.0           255.0   \n",
              "7443     -118.19     33.96                40.0        979.0           296.0   \n",
              "13042    -121.13     38.55                 8.0        530.0           109.0   \n",
              "\n",
              "       population  households  median_income  median_house_value  \\\n",
              "16077      1372.0       517.0         3.9236            335000.0   \n",
              "15118       752.0       231.0         3.4286            129400.0   \n",
              "4605        813.0       265.0        15.0001            500001.0   \n",
              "7443        934.0       292.0         2.6354            151800.0   \n",
              "13042       398.0        96.0         4.2031            212500.0   \n",
              "\n",
              "      ocean_proximity  \n",
              "16077      NEAR OCEAN  \n",
              "15118       <1H OCEAN  \n",
              "4605        <1H OCEAN  \n",
              "7443        <1H OCEAN  \n",
              "13042          INLAND  "
            ],
            "text/html": [
              "\n",
              "  <div id=\"df-d15641c1-54cc-42fa-8151-d6be5a4f13fd\">\n",
              "    <div class=\"colab-df-container\">\n",
              "      <div>\n",
              "<style scoped>\n",
              "    .dataframe tbody tr th:only-of-type {\n",
              "        vertical-align: middle;\n",
              "    }\n",
              "\n",
              "    .dataframe tbody tr th {\n",
              "        vertical-align: top;\n",
              "    }\n",
              "\n",
              "    .dataframe thead th {\n",
              "        text-align: right;\n",
              "    }\n",
              "</style>\n",
              "<table border=\"1\" class=\"dataframe\">\n",
              "  <thead>\n",
              "    <tr style=\"text-align: right;\">\n",
              "      <th></th>\n",
              "      <th>longitude</th>\n",
              "      <th>latitude</th>\n",
              "      <th>housing_median_age</th>\n",
              "      <th>total_rooms</th>\n",
              "      <th>total_bedrooms</th>\n",
              "      <th>population</th>\n",
              "      <th>households</th>\n",
              "      <th>median_income</th>\n",
              "      <th>median_house_value</th>\n",
              "      <th>ocean_proximity</th>\n",
              "    </tr>\n",
              "  </thead>\n",
              "  <tbody>\n",
              "    <tr>\n",
              "      <th>16077</th>\n",
              "      <td>-122.48</td>\n",
              "      <td>37.74</td>\n",
              "      <td>52.0</td>\n",
              "      <td>2841.0</td>\n",
              "      <td>517.0</td>\n",
              "      <td>1372.0</td>\n",
              "      <td>517.0</td>\n",
              "      <td>3.9236</td>\n",
              "      <td>335000.0</td>\n",
              "      <td>NEAR OCEAN</td>\n",
              "    </tr>\n",
              "    <tr>\n",
              "      <th>15118</th>\n",
              "      <td>-116.95</td>\n",
              "      <td>32.84</td>\n",
              "      <td>31.0</td>\n",
              "      <td>1307.0</td>\n",
              "      <td>NaN</td>\n",
              "      <td>752.0</td>\n",
              "      <td>231.0</td>\n",
              "      <td>3.4286</td>\n",
              "      <td>129400.0</td>\n",
              "      <td>&lt;1H OCEAN</td>\n",
              "    </tr>\n",
              "    <tr>\n",
              "      <th>4605</th>\n",
              "      <td>-118.33</td>\n",
              "      <td>34.07</td>\n",
              "      <td>52.0</td>\n",
              "      <td>2248.0</td>\n",
              "      <td>255.0</td>\n",
              "      <td>813.0</td>\n",
              "      <td>265.0</td>\n",
              "      <td>15.0001</td>\n",
              "      <td>500001.0</td>\n",
              "      <td>&lt;1H OCEAN</td>\n",
              "    </tr>\n",
              "    <tr>\n",
              "      <th>7443</th>\n",
              "      <td>-118.19</td>\n",
              "      <td>33.96</td>\n",
              "      <td>40.0</td>\n",
              "      <td>979.0</td>\n",
              "      <td>296.0</td>\n",
              "      <td>934.0</td>\n",
              "      <td>292.0</td>\n",
              "      <td>2.6354</td>\n",
              "      <td>151800.0</td>\n",
              "      <td>&lt;1H OCEAN</td>\n",
              "    </tr>\n",
              "    <tr>\n",
              "      <th>13042</th>\n",
              "      <td>-121.13</td>\n",
              "      <td>38.55</td>\n",
              "      <td>8.0</td>\n",
              "      <td>530.0</td>\n",
              "      <td>109.0</td>\n",
              "      <td>398.0</td>\n",
              "      <td>96.0</td>\n",
              "      <td>4.2031</td>\n",
              "      <td>212500.0</td>\n",
              "      <td>INLAND</td>\n",
              "    </tr>\n",
              "  </tbody>\n",
              "</table>\n",
              "</div>\n",
              "      <button class=\"colab-df-convert\" onclick=\"convertToInteractive('df-d15641c1-54cc-42fa-8151-d6be5a4f13fd')\"\n",
              "              title=\"Convert this dataframe to an interactive table.\"\n",
              "              style=\"display:none;\">\n",
              "        \n",
              "  <svg xmlns=\"http://www.w3.org/2000/svg\" height=\"24px\"viewBox=\"0 0 24 24\"\n",
              "       width=\"24px\">\n",
              "    <path d=\"M0 0h24v24H0V0z\" fill=\"none\"/>\n",
              "    <path d=\"M18.56 5.44l.94 2.06.94-2.06 2.06-.94-2.06-.94-.94-2.06-.94 2.06-2.06.94zm-11 1L8.5 8.5l.94-2.06 2.06-.94-2.06-.94L8.5 2.5l-.94 2.06-2.06.94zm10 10l.94 2.06.94-2.06 2.06-.94-2.06-.94-.94-2.06-.94 2.06-2.06.94z\"/><path d=\"M17.41 7.96l-1.37-1.37c-.4-.4-.92-.59-1.43-.59-.52 0-1.04.2-1.43.59L10.3 9.45l-7.72 7.72c-.78.78-.78 2.05 0 2.83L4 21.41c.39.39.9.59 1.41.59.51 0 1.02-.2 1.41-.59l7.78-7.78 2.81-2.81c.8-.78.8-2.07 0-2.86zM5.41 20L4 18.59l7.72-7.72 1.47 1.35L5.41 20z\"/>\n",
              "  </svg>\n",
              "      </button>\n",
              "      \n",
              "  <style>\n",
              "    .colab-df-container {\n",
              "      display:flex;\n",
              "      flex-wrap:wrap;\n",
              "      gap: 12px;\n",
              "    }\n",
              "\n",
              "    .colab-df-convert {\n",
              "      background-color: #E8F0FE;\n",
              "      border: none;\n",
              "      border-radius: 50%;\n",
              "      cursor: pointer;\n",
              "      display: none;\n",
              "      fill: #1967D2;\n",
              "      height: 32px;\n",
              "      padding: 0 0 0 0;\n",
              "      width: 32px;\n",
              "    }\n",
              "\n",
              "    .colab-df-convert:hover {\n",
              "      background-color: #E2EBFA;\n",
              "      box-shadow: 0px 1px 2px rgba(60, 64, 67, 0.3), 0px 1px 3px 1px rgba(60, 64, 67, 0.15);\n",
              "      fill: #174EA6;\n",
              "    }\n",
              "\n",
              "    [theme=dark] .colab-df-convert {\n",
              "      background-color: #3B4455;\n",
              "      fill: #D2E3FC;\n",
              "    }\n",
              "\n",
              "    [theme=dark] .colab-df-convert:hover {\n",
              "      background-color: #434B5C;\n",
              "      box-shadow: 0px 1px 3px 1px rgba(0, 0, 0, 0.15);\n",
              "      filter: drop-shadow(0px 1px 2px rgba(0, 0, 0, 0.3));\n",
              "      fill: #FFFFFF;\n",
              "    }\n",
              "  </style>\n",
              "\n",
              "      <script>\n",
              "        const buttonEl =\n",
              "          document.querySelector('#df-d15641c1-54cc-42fa-8151-d6be5a4f13fd button.colab-df-convert');\n",
              "        buttonEl.style.display =\n",
              "          google.colab.kernel.accessAllowed ? 'block' : 'none';\n",
              "\n",
              "        async function convertToInteractive(key) {\n",
              "          const element = document.querySelector('#df-d15641c1-54cc-42fa-8151-d6be5a4f13fd');\n",
              "          const dataTable =\n",
              "            await google.colab.kernel.invokeFunction('convertToInteractive',\n",
              "                                                     [key], {});\n",
              "          if (!dataTable) return;\n",
              "\n",
              "          const docLinkHtml = 'Like what you see? Visit the ' +\n",
              "            '<a target=\"_blank\" href=https://colab.research.google.com/notebooks/data_table.ipynb>data table notebook</a>'\n",
              "            + ' to learn more about interactive tables.';\n",
              "          element.innerHTML = '';\n",
              "          dataTable['output_type'] = 'display_data';\n",
              "          await google.colab.output.renderOutput(dataTable, element);\n",
              "          const docLink = document.createElement('div');\n",
              "          docLink.innerHTML = docLinkHtml;\n",
              "          element.appendChild(docLink);\n",
              "        }\n",
              "      </script>\n",
              "    </div>\n",
              "  </div>\n",
              "  "
            ]
          },
          "metadata": {},
          "execution_count": 187
        }
      ]
    },
    {
      "cell_type": "code",
      "source": [
        "# number of rows and columns of dataframe\n",
        "housing_df.shape"
      ],
      "metadata": {
        "colab": {
          "base_uri": "https://localhost:8080/"
        },
        "id": "SddfJBYtrAW_",
        "outputId": "5fd8b799-732c-4577-d79c-3fe72eaf1a95"
      },
      "execution_count": null,
      "outputs": [
        {
          "output_type": "execute_result",
          "data": {
            "text/plain": [
              "(20640, 10)"
            ]
          },
          "metadata": {},
          "execution_count": 188
        }
      ]
    },
    {
      "cell_type": "code",
      "source": [
        "# finding total missing values for all columns\n",
        "housing_df.isna().sum()"
      ],
      "metadata": {
        "colab": {
          "base_uri": "https://localhost:8080/"
        },
        "id": "WKNN3PVnrEHH",
        "outputId": "c8f90029-822c-4506-8f30-7ab1520bd475"
      },
      "execution_count": null,
      "outputs": [
        {
          "output_type": "execute_result",
          "data": {
            "text/plain": [
              "longitude               0\n",
              "latitude                0\n",
              "housing_median_age      0\n",
              "total_rooms             0\n",
              "total_bedrooms        207\n",
              "population              0\n",
              "households              0\n",
              "median_income           0\n",
              "median_house_value      0\n",
              "ocean_proximity         0\n",
              "dtype: int64"
            ]
          },
          "metadata": {},
          "execution_count": 189
        }
      ]
    },
    {
      "cell_type": "code",
      "source": [
        "# drop missing values\n",
        "housing_df = housing_df.dropna()\n",
        "\n",
        "# shape after dropping rows\n",
        "housing_df.shape"
      ],
      "metadata": {
        "colab": {
          "base_uri": "https://localhost:8080/"
        },
        "id": "tQiGTTENrmVj",
        "outputId": "776e4ed9-144b-4a55-bc58-263274193ecb"
      },
      "execution_count": null,
      "outputs": [
        {
          "output_type": "execute_result",
          "data": {
            "text/plain": [
              "(20433, 10)"
            ]
          },
          "metadata": {},
          "execution_count": 190
        }
      ]
    },
    {
      "cell_type": "code",
      "source": [
        "# checking again if there are any missing values\n",
        "housing_df.isna().sum()"
      ],
      "metadata": {
        "colab": {
          "base_uri": "https://localhost:8080/"
        },
        "id": "4NV8taojrz69",
        "outputId": "0c4e4d16-ed0d-4005-d23a-6058732298a3"
      },
      "execution_count": null,
      "outputs": [
        {
          "output_type": "execute_result",
          "data": {
            "text/plain": [
              "longitude             0\n",
              "latitude              0\n",
              "housing_median_age    0\n",
              "total_rooms           0\n",
              "total_bedrooms        0\n",
              "population            0\n",
              "households            0\n",
              "median_income         0\n",
              "median_house_value    0\n",
              "ocean_proximity       0\n",
              "dtype: int64"
            ]
          },
          "metadata": {},
          "execution_count": 191
        }
      ]
    },
    {
      "cell_type": "code",
      "source": [
        "# Exporing the categorical data\n",
        "housing_df['ocean_proximity'].unique()"
      ],
      "metadata": {
        "colab": {
          "base_uri": "https://localhost:8080/"
        },
        "id": "ibi02w7BE9T_",
        "outputId": "f95739a7-c179-4b95-a065-a4641ef4849e"
      },
      "execution_count": null,
      "outputs": [
        {
          "output_type": "execute_result",
          "data": {
            "text/plain": [
              "array(['NEAR BAY', '<1H OCEAN', 'INLAND', 'NEAR OCEAN', 'ISLAND'],\n",
              "      dtype=object)"
            ]
          },
          "metadata": {},
          "execution_count": 192
        }
      ]
    },
    {
      "cell_type": "code",
      "source": [
        "# convert categorical data into numerical data\n",
        "housing_df = pd.get_dummies(housing_df, columns= ['ocean_proximity'])\n",
        "\n",
        "# showing data after converting categorical data\n",
        "housing_df.head()"
      ],
      "metadata": {
        "colab": {
          "base_uri": "https://localhost:8080/",
          "height": 288
        },
        "id": "rWvnrEANr_k0",
        "outputId": "b9085235-a876-4c59-e000-6599af5abdce"
      },
      "execution_count": null,
      "outputs": [
        {
          "output_type": "execute_result",
          "data": {
            "text/plain": [
              "   longitude  latitude  housing_median_age  total_rooms  total_bedrooms  \\\n",
              "0    -122.23     37.88                41.0        880.0           129.0   \n",
              "1    -122.22     37.86                21.0       7099.0          1106.0   \n",
              "2    -122.24     37.85                52.0       1467.0           190.0   \n",
              "3    -122.25     37.85                52.0       1274.0           235.0   \n",
              "4    -122.25     37.85                52.0       1627.0           280.0   \n",
              "\n",
              "   population  households  median_income  median_house_value  \\\n",
              "0       322.0       126.0         8.3252            452600.0   \n",
              "1      2401.0      1138.0         8.3014            358500.0   \n",
              "2       496.0       177.0         7.2574            352100.0   \n",
              "3       558.0       219.0         5.6431            341300.0   \n",
              "4       565.0       259.0         3.8462            342200.0   \n",
              "\n",
              "   ocean_proximity_<1H OCEAN  ocean_proximity_INLAND  ocean_proximity_ISLAND  \\\n",
              "0                          0                       0                       0   \n",
              "1                          0                       0                       0   \n",
              "2                          0                       0                       0   \n",
              "3                          0                       0                       0   \n",
              "4                          0                       0                       0   \n",
              "\n",
              "   ocean_proximity_NEAR BAY  ocean_proximity_NEAR OCEAN  \n",
              "0                         1                           0  \n",
              "1                         1                           0  \n",
              "2                         1                           0  \n",
              "3                         1                           0  \n",
              "4                         1                           0  "
            ],
            "text/html": [
              "\n",
              "  <div id=\"df-10523b00-5a9f-44c6-9c49-0474fab04d2f\">\n",
              "    <div class=\"colab-df-container\">\n",
              "      <div>\n",
              "<style scoped>\n",
              "    .dataframe tbody tr th:only-of-type {\n",
              "        vertical-align: middle;\n",
              "    }\n",
              "\n",
              "    .dataframe tbody tr th {\n",
              "        vertical-align: top;\n",
              "    }\n",
              "\n",
              "    .dataframe thead th {\n",
              "        text-align: right;\n",
              "    }\n",
              "</style>\n",
              "<table border=\"1\" class=\"dataframe\">\n",
              "  <thead>\n",
              "    <tr style=\"text-align: right;\">\n",
              "      <th></th>\n",
              "      <th>longitude</th>\n",
              "      <th>latitude</th>\n",
              "      <th>housing_median_age</th>\n",
              "      <th>total_rooms</th>\n",
              "      <th>total_bedrooms</th>\n",
              "      <th>population</th>\n",
              "      <th>households</th>\n",
              "      <th>median_income</th>\n",
              "      <th>median_house_value</th>\n",
              "      <th>ocean_proximity_&lt;1H OCEAN</th>\n",
              "      <th>ocean_proximity_INLAND</th>\n",
              "      <th>ocean_proximity_ISLAND</th>\n",
              "      <th>ocean_proximity_NEAR BAY</th>\n",
              "      <th>ocean_proximity_NEAR OCEAN</th>\n",
              "    </tr>\n",
              "  </thead>\n",
              "  <tbody>\n",
              "    <tr>\n",
              "      <th>0</th>\n",
              "      <td>-122.23</td>\n",
              "      <td>37.88</td>\n",
              "      <td>41.0</td>\n",
              "      <td>880.0</td>\n",
              "      <td>129.0</td>\n",
              "      <td>322.0</td>\n",
              "      <td>126.0</td>\n",
              "      <td>8.3252</td>\n",
              "      <td>452600.0</td>\n",
              "      <td>0</td>\n",
              "      <td>0</td>\n",
              "      <td>0</td>\n",
              "      <td>1</td>\n",
              "      <td>0</td>\n",
              "    </tr>\n",
              "    <tr>\n",
              "      <th>1</th>\n",
              "      <td>-122.22</td>\n",
              "      <td>37.86</td>\n",
              "      <td>21.0</td>\n",
              "      <td>7099.0</td>\n",
              "      <td>1106.0</td>\n",
              "      <td>2401.0</td>\n",
              "      <td>1138.0</td>\n",
              "      <td>8.3014</td>\n",
              "      <td>358500.0</td>\n",
              "      <td>0</td>\n",
              "      <td>0</td>\n",
              "      <td>0</td>\n",
              "      <td>1</td>\n",
              "      <td>0</td>\n",
              "    </tr>\n",
              "    <tr>\n",
              "      <th>2</th>\n",
              "      <td>-122.24</td>\n",
              "      <td>37.85</td>\n",
              "      <td>52.0</td>\n",
              "      <td>1467.0</td>\n",
              "      <td>190.0</td>\n",
              "      <td>496.0</td>\n",
              "      <td>177.0</td>\n",
              "      <td>7.2574</td>\n",
              "      <td>352100.0</td>\n",
              "      <td>0</td>\n",
              "      <td>0</td>\n",
              "      <td>0</td>\n",
              "      <td>1</td>\n",
              "      <td>0</td>\n",
              "    </tr>\n",
              "    <tr>\n",
              "      <th>3</th>\n",
              "      <td>-122.25</td>\n",
              "      <td>37.85</td>\n",
              "      <td>52.0</td>\n",
              "      <td>1274.0</td>\n",
              "      <td>235.0</td>\n",
              "      <td>558.0</td>\n",
              "      <td>219.0</td>\n",
              "      <td>5.6431</td>\n",
              "      <td>341300.0</td>\n",
              "      <td>0</td>\n",
              "      <td>0</td>\n",
              "      <td>0</td>\n",
              "      <td>1</td>\n",
              "      <td>0</td>\n",
              "    </tr>\n",
              "    <tr>\n",
              "      <th>4</th>\n",
              "      <td>-122.25</td>\n",
              "      <td>37.85</td>\n",
              "      <td>52.0</td>\n",
              "      <td>1627.0</td>\n",
              "      <td>280.0</td>\n",
              "      <td>565.0</td>\n",
              "      <td>259.0</td>\n",
              "      <td>3.8462</td>\n",
              "      <td>342200.0</td>\n",
              "      <td>0</td>\n",
              "      <td>0</td>\n",
              "      <td>0</td>\n",
              "      <td>1</td>\n",
              "      <td>0</td>\n",
              "    </tr>\n",
              "  </tbody>\n",
              "</table>\n",
              "</div>\n",
              "      <button class=\"colab-df-convert\" onclick=\"convertToInteractive('df-10523b00-5a9f-44c6-9c49-0474fab04d2f')\"\n",
              "              title=\"Convert this dataframe to an interactive table.\"\n",
              "              style=\"display:none;\">\n",
              "        \n",
              "  <svg xmlns=\"http://www.w3.org/2000/svg\" height=\"24px\"viewBox=\"0 0 24 24\"\n",
              "       width=\"24px\">\n",
              "    <path d=\"M0 0h24v24H0V0z\" fill=\"none\"/>\n",
              "    <path d=\"M18.56 5.44l.94 2.06.94-2.06 2.06-.94-2.06-.94-.94-2.06-.94 2.06-2.06.94zm-11 1L8.5 8.5l.94-2.06 2.06-.94-2.06-.94L8.5 2.5l-.94 2.06-2.06.94zm10 10l.94 2.06.94-2.06 2.06-.94-2.06-.94-.94-2.06-.94 2.06-2.06.94z\"/><path d=\"M17.41 7.96l-1.37-1.37c-.4-.4-.92-.59-1.43-.59-.52 0-1.04.2-1.43.59L10.3 9.45l-7.72 7.72c-.78.78-.78 2.05 0 2.83L4 21.41c.39.39.9.59 1.41.59.51 0 1.02-.2 1.41-.59l7.78-7.78 2.81-2.81c.8-.78.8-2.07 0-2.86zM5.41 20L4 18.59l7.72-7.72 1.47 1.35L5.41 20z\"/>\n",
              "  </svg>\n",
              "      </button>\n",
              "      \n",
              "  <style>\n",
              "    .colab-df-container {\n",
              "      display:flex;\n",
              "      flex-wrap:wrap;\n",
              "      gap: 12px;\n",
              "    }\n",
              "\n",
              "    .colab-df-convert {\n",
              "      background-color: #E8F0FE;\n",
              "      border: none;\n",
              "      border-radius: 50%;\n",
              "      cursor: pointer;\n",
              "      display: none;\n",
              "      fill: #1967D2;\n",
              "      height: 32px;\n",
              "      padding: 0 0 0 0;\n",
              "      width: 32px;\n",
              "    }\n",
              "\n",
              "    .colab-df-convert:hover {\n",
              "      background-color: #E2EBFA;\n",
              "      box-shadow: 0px 1px 2px rgba(60, 64, 67, 0.3), 0px 1px 3px 1px rgba(60, 64, 67, 0.15);\n",
              "      fill: #174EA6;\n",
              "    }\n",
              "\n",
              "    [theme=dark] .colab-df-convert {\n",
              "      background-color: #3B4455;\n",
              "      fill: #D2E3FC;\n",
              "    }\n",
              "\n",
              "    [theme=dark] .colab-df-convert:hover {\n",
              "      background-color: #434B5C;\n",
              "      box-shadow: 0px 1px 3px 1px rgba(0, 0, 0, 0.15);\n",
              "      filter: drop-shadow(0px 1px 2px rgba(0, 0, 0, 0.3));\n",
              "      fill: #FFFFFF;\n",
              "    }\n",
              "  </style>\n",
              "\n",
              "      <script>\n",
              "        const buttonEl =\n",
              "          document.querySelector('#df-10523b00-5a9f-44c6-9c49-0474fab04d2f button.colab-df-convert');\n",
              "        buttonEl.style.display =\n",
              "          google.colab.kernel.accessAllowed ? 'block' : 'none';\n",
              "\n",
              "        async function convertToInteractive(key) {\n",
              "          const element = document.querySelector('#df-10523b00-5a9f-44c6-9c49-0474fab04d2f');\n",
              "          const dataTable =\n",
              "            await google.colab.kernel.invokeFunction('convertToInteractive',\n",
              "                                                     [key], {});\n",
              "          if (!dataTable) return;\n",
              "\n",
              "          const docLinkHtml = 'Like what you see? Visit the ' +\n",
              "            '<a target=\"_blank\" href=https://colab.research.google.com/notebooks/data_table.ipynb>data table notebook</a>'\n",
              "            + ' to learn more about interactive tables.';\n",
              "          element.innerHTML = '';\n",
              "          dataTable['output_type'] = 'display_data';\n",
              "          await google.colab.output.renderOutput(dataTable, element);\n",
              "          const docLink = document.createElement('div');\n",
              "          docLink.innerHTML = docLinkHtml;\n",
              "          element.appendChild(docLink);\n",
              "        }\n",
              "      </script>\n",
              "    </div>\n",
              "  </div>\n",
              "  "
            ]
          },
          "metadata": {},
          "execution_count": 193
        }
      ]
    },
    {
      "cell_type": "code",
      "source": [
        "# original dataset had 10 columns, now we have 14 columns\n",
        "housing_df.shape"
      ],
      "metadata": {
        "colab": {
          "base_uri": "https://localhost:8080/"
        },
        "id": "ESxpAACutp6D",
        "outputId": "57516f90-b4f9-4c71-b120-6b084d21a59f"
      },
      "execution_count": null,
      "outputs": [
        {
          "output_type": "execute_result",
          "data": {
            "text/plain": [
              "(20433, 14)"
            ]
          },
          "metadata": {},
          "execution_count": 194
        }
      ]
    },
    {
      "cell_type": "code",
      "source": [
        "# showing correlation between data\n",
        "housing_df_corr = housing_df.corr()\n",
        "housing_df_corr"
      ],
      "metadata": {
        "colab": {
          "base_uri": "https://localhost:8080/",
          "height": 622
        },
        "id": "4yUYyeknt2Vl",
        "outputId": "231cfaf9-72c4-425a-e9b8-d7a7bf5e7bfb"
      },
      "execution_count": null,
      "outputs": [
        {
          "output_type": "execute_result",
          "data": {
            "text/plain": [
              "                            longitude  latitude  housing_median_age  \\\n",
              "longitude                    1.000000 -0.924616           -0.109357   \n",
              "latitude                    -0.924616  1.000000            0.011899   \n",
              "housing_median_age          -0.109357  0.011899            1.000000   \n",
              "total_rooms                  0.045480 -0.036667           -0.360628   \n",
              "total_bedrooms               0.069608 -0.066983           -0.320451   \n",
              "population                   0.100270 -0.108997           -0.295787   \n",
              "households                   0.056513 -0.071774           -0.302768   \n",
              "median_income               -0.015550 -0.079626           -0.118278   \n",
              "median_house_value          -0.045398 -0.144638            0.106432   \n",
              "ocean_proximity_<1H OCEAN    0.320831 -0.446928            0.045553   \n",
              "ocean_proximity_INLAND      -0.055337  0.351084           -0.236968   \n",
              "ocean_proximity_ISLAND       0.009501 -0.016662            0.017105   \n",
              "ocean_proximity_NEAR BAY    -0.474714  0.358785            0.256149   \n",
              "ocean_proximity_NEAR OCEAN   0.046185 -0.161342            0.020797   \n",
              "\n",
              "                            total_rooms  total_bedrooms  population  \\\n",
              "longitude                      0.045480        0.069608    0.100270   \n",
              "latitude                      -0.036667       -0.066983   -0.108997   \n",
              "housing_median_age            -0.360628       -0.320451   -0.295787   \n",
              "total_rooms                    1.000000        0.930380    0.857281   \n",
              "total_bedrooms                 0.930380        1.000000    0.877747   \n",
              "population                     0.857281        0.877747    1.000000   \n",
              "households                     0.918992        0.979728    0.907186   \n",
              "median_income                  0.197882       -0.007723    0.005087   \n",
              "median_house_value             0.133294        0.049686   -0.025300   \n",
              "ocean_proximity_<1H OCEAN     -0.003777        0.018314    0.073450   \n",
              "ocean_proximity_INLAND         0.026477       -0.006463   -0.019602   \n",
              "ocean_proximity_ISLAND        -0.007603       -0.004361   -0.010451   \n",
              "ocean_proximity_NEAR BAY      -0.023647       -0.019873   -0.061480   \n",
              "ocean_proximity_NEAR OCEAN    -0.008674        0.000679   -0.023498   \n",
              "\n",
              "                            households  median_income  median_house_value  \\\n",
              "longitude                     0.056513      -0.015550           -0.045398   \n",
              "latitude                     -0.071774      -0.079626           -0.144638   \n",
              "housing_median_age           -0.302768      -0.118278            0.106432   \n",
              "total_rooms                   0.918992       0.197882            0.133294   \n",
              "total_bedrooms                0.979728      -0.007723            0.049686   \n",
              "population                    0.907186       0.005087           -0.025300   \n",
              "households                    1.000000       0.013434            0.064894   \n",
              "median_income                 0.013434       1.000000            0.688355   \n",
              "median_house_value            0.064894       0.688355            1.000000   \n",
              "ocean_proximity_<1H OCEAN     0.041883       0.168715            0.257614   \n",
              "ocean_proximity_INLAND       -0.038265      -0.237536           -0.484787   \n",
              "ocean_proximity_ISLAND       -0.009119      -0.009281            0.023525   \n",
              "ocean_proximity_NEAR BAY     -0.011280       0.056677            0.160526   \n",
              "ocean_proximity_NEAR OCEAN    0.002106       0.027351            0.140378   \n",
              "\n",
              "                            ocean_proximity_<1H OCEAN  ocean_proximity_INLAND  \\\n",
              "longitude                                    0.320831               -0.055337   \n",
              "latitude                                    -0.446928                0.351084   \n",
              "housing_median_age                           0.045553               -0.236968   \n",
              "total_rooms                                 -0.003777                0.026477   \n",
              "total_bedrooms                               0.018314               -0.006463   \n",
              "population                                   0.073450               -0.019602   \n",
              "households                                   0.041883               -0.038265   \n",
              "median_income                                0.168715               -0.237536   \n",
              "median_house_value                           0.257614               -0.484787   \n",
              "ocean_proximity_<1H OCEAN                    1.000000               -0.607778   \n",
              "ocean_proximity_INLAND                      -0.607778                1.000000   \n",
              "ocean_proximity_ISLAND                      -0.013928               -0.010681   \n",
              "ocean_proximity_NEAR BAY                    -0.314721               -0.241356   \n",
              "ocean_proximity_NEAR OCEAN                  -0.342018               -0.262289   \n",
              "\n",
              "                            ocean_proximity_ISLAND  ocean_proximity_NEAR BAY  \\\n",
              "longitude                                 0.009501                 -0.474714   \n",
              "latitude                                 -0.016662                  0.358785   \n",
              "housing_median_age                        0.017105                  0.256149   \n",
              "total_rooms                              -0.007603                 -0.023647   \n",
              "total_bedrooms                           -0.004361                 -0.019873   \n",
              "population                               -0.010451                 -0.061480   \n",
              "households                               -0.009119                 -0.011280   \n",
              "median_income                            -0.009281                  0.056677   \n",
              "median_house_value                        0.023525                  0.160526   \n",
              "ocean_proximity_<1H OCEAN                -0.013928                 -0.314721   \n",
              "ocean_proximity_INLAND                   -0.010681                 -0.241356   \n",
              "ocean_proximity_ISLAND                    1.000000                 -0.005531   \n",
              "ocean_proximity_NEAR BAY                 -0.005531                  1.000000   \n",
              "ocean_proximity_NEAR OCEAN               -0.006011                 -0.135819   \n",
              "\n",
              "                            ocean_proximity_NEAR OCEAN  \n",
              "longitude                                     0.046185  \n",
              "latitude                                     -0.161342  \n",
              "housing_median_age                            0.020797  \n",
              "total_rooms                                  -0.008674  \n",
              "total_bedrooms                                0.000679  \n",
              "population                                   -0.023498  \n",
              "households                                    0.002106  \n",
              "median_income                                 0.027351  \n",
              "median_house_value                            0.140378  \n",
              "ocean_proximity_<1H OCEAN                    -0.342018  \n",
              "ocean_proximity_INLAND                       -0.262289  \n",
              "ocean_proximity_ISLAND                       -0.006011  \n",
              "ocean_proximity_NEAR BAY                     -0.135819  \n",
              "ocean_proximity_NEAR OCEAN                    1.000000  "
            ],
            "text/html": [
              "\n",
              "  <div id=\"df-b5c24e49-5835-481f-b410-710c2a5ac932\">\n",
              "    <div class=\"colab-df-container\">\n",
              "      <div>\n",
              "<style scoped>\n",
              "    .dataframe tbody tr th:only-of-type {\n",
              "        vertical-align: middle;\n",
              "    }\n",
              "\n",
              "    .dataframe tbody tr th {\n",
              "        vertical-align: top;\n",
              "    }\n",
              "\n",
              "    .dataframe thead th {\n",
              "        text-align: right;\n",
              "    }\n",
              "</style>\n",
              "<table border=\"1\" class=\"dataframe\">\n",
              "  <thead>\n",
              "    <tr style=\"text-align: right;\">\n",
              "      <th></th>\n",
              "      <th>longitude</th>\n",
              "      <th>latitude</th>\n",
              "      <th>housing_median_age</th>\n",
              "      <th>total_rooms</th>\n",
              "      <th>total_bedrooms</th>\n",
              "      <th>population</th>\n",
              "      <th>households</th>\n",
              "      <th>median_income</th>\n",
              "      <th>median_house_value</th>\n",
              "      <th>ocean_proximity_&lt;1H OCEAN</th>\n",
              "      <th>ocean_proximity_INLAND</th>\n",
              "      <th>ocean_proximity_ISLAND</th>\n",
              "      <th>ocean_proximity_NEAR BAY</th>\n",
              "      <th>ocean_proximity_NEAR OCEAN</th>\n",
              "    </tr>\n",
              "  </thead>\n",
              "  <tbody>\n",
              "    <tr>\n",
              "      <th>longitude</th>\n",
              "      <td>1.000000</td>\n",
              "      <td>-0.924616</td>\n",
              "      <td>-0.109357</td>\n",
              "      <td>0.045480</td>\n",
              "      <td>0.069608</td>\n",
              "      <td>0.100270</td>\n",
              "      <td>0.056513</td>\n",
              "      <td>-0.015550</td>\n",
              "      <td>-0.045398</td>\n",
              "      <td>0.320831</td>\n",
              "      <td>-0.055337</td>\n",
              "      <td>0.009501</td>\n",
              "      <td>-0.474714</td>\n",
              "      <td>0.046185</td>\n",
              "    </tr>\n",
              "    <tr>\n",
              "      <th>latitude</th>\n",
              "      <td>-0.924616</td>\n",
              "      <td>1.000000</td>\n",
              "      <td>0.011899</td>\n",
              "      <td>-0.036667</td>\n",
              "      <td>-0.066983</td>\n",
              "      <td>-0.108997</td>\n",
              "      <td>-0.071774</td>\n",
              "      <td>-0.079626</td>\n",
              "      <td>-0.144638</td>\n",
              "      <td>-0.446928</td>\n",
              "      <td>0.351084</td>\n",
              "      <td>-0.016662</td>\n",
              "      <td>0.358785</td>\n",
              "      <td>-0.161342</td>\n",
              "    </tr>\n",
              "    <tr>\n",
              "      <th>housing_median_age</th>\n",
              "      <td>-0.109357</td>\n",
              "      <td>0.011899</td>\n",
              "      <td>1.000000</td>\n",
              "      <td>-0.360628</td>\n",
              "      <td>-0.320451</td>\n",
              "      <td>-0.295787</td>\n",
              "      <td>-0.302768</td>\n",
              "      <td>-0.118278</td>\n",
              "      <td>0.106432</td>\n",
              "      <td>0.045553</td>\n",
              "      <td>-0.236968</td>\n",
              "      <td>0.017105</td>\n",
              "      <td>0.256149</td>\n",
              "      <td>0.020797</td>\n",
              "    </tr>\n",
              "    <tr>\n",
              "      <th>total_rooms</th>\n",
              "      <td>0.045480</td>\n",
              "      <td>-0.036667</td>\n",
              "      <td>-0.360628</td>\n",
              "      <td>1.000000</td>\n",
              "      <td>0.930380</td>\n",
              "      <td>0.857281</td>\n",
              "      <td>0.918992</td>\n",
              "      <td>0.197882</td>\n",
              "      <td>0.133294</td>\n",
              "      <td>-0.003777</td>\n",
              "      <td>0.026477</td>\n",
              "      <td>-0.007603</td>\n",
              "      <td>-0.023647</td>\n",
              "      <td>-0.008674</td>\n",
              "    </tr>\n",
              "    <tr>\n",
              "      <th>total_bedrooms</th>\n",
              "      <td>0.069608</td>\n",
              "      <td>-0.066983</td>\n",
              "      <td>-0.320451</td>\n",
              "      <td>0.930380</td>\n",
              "      <td>1.000000</td>\n",
              "      <td>0.877747</td>\n",
              "      <td>0.979728</td>\n",
              "      <td>-0.007723</td>\n",
              "      <td>0.049686</td>\n",
              "      <td>0.018314</td>\n",
              "      <td>-0.006463</td>\n",
              "      <td>-0.004361</td>\n",
              "      <td>-0.019873</td>\n",
              "      <td>0.000679</td>\n",
              "    </tr>\n",
              "    <tr>\n",
              "      <th>population</th>\n",
              "      <td>0.100270</td>\n",
              "      <td>-0.108997</td>\n",
              "      <td>-0.295787</td>\n",
              "      <td>0.857281</td>\n",
              "      <td>0.877747</td>\n",
              "      <td>1.000000</td>\n",
              "      <td>0.907186</td>\n",
              "      <td>0.005087</td>\n",
              "      <td>-0.025300</td>\n",
              "      <td>0.073450</td>\n",
              "      <td>-0.019602</td>\n",
              "      <td>-0.010451</td>\n",
              "      <td>-0.061480</td>\n",
              "      <td>-0.023498</td>\n",
              "    </tr>\n",
              "    <tr>\n",
              "      <th>households</th>\n",
              "      <td>0.056513</td>\n",
              "      <td>-0.071774</td>\n",
              "      <td>-0.302768</td>\n",
              "      <td>0.918992</td>\n",
              "      <td>0.979728</td>\n",
              "      <td>0.907186</td>\n",
              "      <td>1.000000</td>\n",
              "      <td>0.013434</td>\n",
              "      <td>0.064894</td>\n",
              "      <td>0.041883</td>\n",
              "      <td>-0.038265</td>\n",
              "      <td>-0.009119</td>\n",
              "      <td>-0.011280</td>\n",
              "      <td>0.002106</td>\n",
              "    </tr>\n",
              "    <tr>\n",
              "      <th>median_income</th>\n",
              "      <td>-0.015550</td>\n",
              "      <td>-0.079626</td>\n",
              "      <td>-0.118278</td>\n",
              "      <td>0.197882</td>\n",
              "      <td>-0.007723</td>\n",
              "      <td>0.005087</td>\n",
              "      <td>0.013434</td>\n",
              "      <td>1.000000</td>\n",
              "      <td>0.688355</td>\n",
              "      <td>0.168715</td>\n",
              "      <td>-0.237536</td>\n",
              "      <td>-0.009281</td>\n",
              "      <td>0.056677</td>\n",
              "      <td>0.027351</td>\n",
              "    </tr>\n",
              "    <tr>\n",
              "      <th>median_house_value</th>\n",
              "      <td>-0.045398</td>\n",
              "      <td>-0.144638</td>\n",
              "      <td>0.106432</td>\n",
              "      <td>0.133294</td>\n",
              "      <td>0.049686</td>\n",
              "      <td>-0.025300</td>\n",
              "      <td>0.064894</td>\n",
              "      <td>0.688355</td>\n",
              "      <td>1.000000</td>\n",
              "      <td>0.257614</td>\n",
              "      <td>-0.484787</td>\n",
              "      <td>0.023525</td>\n",
              "      <td>0.160526</td>\n",
              "      <td>0.140378</td>\n",
              "    </tr>\n",
              "    <tr>\n",
              "      <th>ocean_proximity_&lt;1H OCEAN</th>\n",
              "      <td>0.320831</td>\n",
              "      <td>-0.446928</td>\n",
              "      <td>0.045553</td>\n",
              "      <td>-0.003777</td>\n",
              "      <td>0.018314</td>\n",
              "      <td>0.073450</td>\n",
              "      <td>0.041883</td>\n",
              "      <td>0.168715</td>\n",
              "      <td>0.257614</td>\n",
              "      <td>1.000000</td>\n",
              "      <td>-0.607778</td>\n",
              "      <td>-0.013928</td>\n",
              "      <td>-0.314721</td>\n",
              "      <td>-0.342018</td>\n",
              "    </tr>\n",
              "    <tr>\n",
              "      <th>ocean_proximity_INLAND</th>\n",
              "      <td>-0.055337</td>\n",
              "      <td>0.351084</td>\n",
              "      <td>-0.236968</td>\n",
              "      <td>0.026477</td>\n",
              "      <td>-0.006463</td>\n",
              "      <td>-0.019602</td>\n",
              "      <td>-0.038265</td>\n",
              "      <td>-0.237536</td>\n",
              "      <td>-0.484787</td>\n",
              "      <td>-0.607778</td>\n",
              "      <td>1.000000</td>\n",
              "      <td>-0.010681</td>\n",
              "      <td>-0.241356</td>\n",
              "      <td>-0.262289</td>\n",
              "    </tr>\n",
              "    <tr>\n",
              "      <th>ocean_proximity_ISLAND</th>\n",
              "      <td>0.009501</td>\n",
              "      <td>-0.016662</td>\n",
              "      <td>0.017105</td>\n",
              "      <td>-0.007603</td>\n",
              "      <td>-0.004361</td>\n",
              "      <td>-0.010451</td>\n",
              "      <td>-0.009119</td>\n",
              "      <td>-0.009281</td>\n",
              "      <td>0.023525</td>\n",
              "      <td>-0.013928</td>\n",
              "      <td>-0.010681</td>\n",
              "      <td>1.000000</td>\n",
              "      <td>-0.005531</td>\n",
              "      <td>-0.006011</td>\n",
              "    </tr>\n",
              "    <tr>\n",
              "      <th>ocean_proximity_NEAR BAY</th>\n",
              "      <td>-0.474714</td>\n",
              "      <td>0.358785</td>\n",
              "      <td>0.256149</td>\n",
              "      <td>-0.023647</td>\n",
              "      <td>-0.019873</td>\n",
              "      <td>-0.061480</td>\n",
              "      <td>-0.011280</td>\n",
              "      <td>0.056677</td>\n",
              "      <td>0.160526</td>\n",
              "      <td>-0.314721</td>\n",
              "      <td>-0.241356</td>\n",
              "      <td>-0.005531</td>\n",
              "      <td>1.000000</td>\n",
              "      <td>-0.135819</td>\n",
              "    </tr>\n",
              "    <tr>\n",
              "      <th>ocean_proximity_NEAR OCEAN</th>\n",
              "      <td>0.046185</td>\n",
              "      <td>-0.161342</td>\n",
              "      <td>0.020797</td>\n",
              "      <td>-0.008674</td>\n",
              "      <td>0.000679</td>\n",
              "      <td>-0.023498</td>\n",
              "      <td>0.002106</td>\n",
              "      <td>0.027351</td>\n",
              "      <td>0.140378</td>\n",
              "      <td>-0.342018</td>\n",
              "      <td>-0.262289</td>\n",
              "      <td>-0.006011</td>\n",
              "      <td>-0.135819</td>\n",
              "      <td>1.000000</td>\n",
              "    </tr>\n",
              "  </tbody>\n",
              "</table>\n",
              "</div>\n",
              "      <button class=\"colab-df-convert\" onclick=\"convertToInteractive('df-b5c24e49-5835-481f-b410-710c2a5ac932')\"\n",
              "              title=\"Convert this dataframe to an interactive table.\"\n",
              "              style=\"display:none;\">\n",
              "        \n",
              "  <svg xmlns=\"http://www.w3.org/2000/svg\" height=\"24px\"viewBox=\"0 0 24 24\"\n",
              "       width=\"24px\">\n",
              "    <path d=\"M0 0h24v24H0V0z\" fill=\"none\"/>\n",
              "    <path d=\"M18.56 5.44l.94 2.06.94-2.06 2.06-.94-2.06-.94-.94-2.06-.94 2.06-2.06.94zm-11 1L8.5 8.5l.94-2.06 2.06-.94-2.06-.94L8.5 2.5l-.94 2.06-2.06.94zm10 10l.94 2.06.94-2.06 2.06-.94-2.06-.94-.94-2.06-.94 2.06-2.06.94z\"/><path d=\"M17.41 7.96l-1.37-1.37c-.4-.4-.92-.59-1.43-.59-.52 0-1.04.2-1.43.59L10.3 9.45l-7.72 7.72c-.78.78-.78 2.05 0 2.83L4 21.41c.39.39.9.59 1.41.59.51 0 1.02-.2 1.41-.59l7.78-7.78 2.81-2.81c.8-.78.8-2.07 0-2.86zM5.41 20L4 18.59l7.72-7.72 1.47 1.35L5.41 20z\"/>\n",
              "  </svg>\n",
              "      </button>\n",
              "      \n",
              "  <style>\n",
              "    .colab-df-container {\n",
              "      display:flex;\n",
              "      flex-wrap:wrap;\n",
              "      gap: 12px;\n",
              "    }\n",
              "\n",
              "    .colab-df-convert {\n",
              "      background-color: #E8F0FE;\n",
              "      border: none;\n",
              "      border-radius: 50%;\n",
              "      cursor: pointer;\n",
              "      display: none;\n",
              "      fill: #1967D2;\n",
              "      height: 32px;\n",
              "      padding: 0 0 0 0;\n",
              "      width: 32px;\n",
              "    }\n",
              "\n",
              "    .colab-df-convert:hover {\n",
              "      background-color: #E2EBFA;\n",
              "      box-shadow: 0px 1px 2px rgba(60, 64, 67, 0.3), 0px 1px 3px 1px rgba(60, 64, 67, 0.15);\n",
              "      fill: #174EA6;\n",
              "    }\n",
              "\n",
              "    [theme=dark] .colab-df-convert {\n",
              "      background-color: #3B4455;\n",
              "      fill: #D2E3FC;\n",
              "    }\n",
              "\n",
              "    [theme=dark] .colab-df-convert:hover {\n",
              "      background-color: #434B5C;\n",
              "      box-shadow: 0px 1px 3px 1px rgba(0, 0, 0, 0.15);\n",
              "      filter: drop-shadow(0px 1px 2px rgba(0, 0, 0, 0.3));\n",
              "      fill: #FFFFFF;\n",
              "    }\n",
              "  </style>\n",
              "\n",
              "      <script>\n",
              "        const buttonEl =\n",
              "          document.querySelector('#df-b5c24e49-5835-481f-b410-710c2a5ac932 button.colab-df-convert');\n",
              "        buttonEl.style.display =\n",
              "          google.colab.kernel.accessAllowed ? 'block' : 'none';\n",
              "\n",
              "        async function convertToInteractive(key) {\n",
              "          const element = document.querySelector('#df-b5c24e49-5835-481f-b410-710c2a5ac932');\n",
              "          const dataTable =\n",
              "            await google.colab.kernel.invokeFunction('convertToInteractive',\n",
              "                                                     [key], {});\n",
              "          if (!dataTable) return;\n",
              "\n",
              "          const docLinkHtml = 'Like what you see? Visit the ' +\n",
              "            '<a target=\"_blank\" href=https://colab.research.google.com/notebooks/data_table.ipynb>data table notebook</a>'\n",
              "            + ' to learn more about interactive tables.';\n",
              "          element.innerHTML = '';\n",
              "          dataTable['output_type'] = 'display_data';\n",
              "          await google.colab.output.renderOutput(dataTable, element);\n",
              "          const docLink = document.createElement('div');\n",
              "          docLink.innerHTML = docLinkHtml;\n",
              "          element.appendChild(docLink);\n",
              "        }\n",
              "      </script>\n",
              "    </div>\n",
              "  </div>\n",
              "  "
            ]
          },
          "metadata": {},
          "execution_count": 195
        }
      ]
    },
    {
      "cell_type": "code",
      "source": [
        "# housing dataset correlation in heatmap\n",
        "import matplotlib.pyplot as plt\n",
        "plt.figure(figsize=(15, 12))\n",
        "sns.heatmap(housing_df_corr, annot=True)"
      ],
      "metadata": {
        "colab": {
          "base_uri": "https://localhost:8080/",
          "height": 864
        },
        "id": "8cu-fc-auIRC",
        "outputId": "76819b6a-ce6b-4bc4-d025-696086d2c68b"
      },
      "execution_count": null,
      "outputs": [
        {
          "output_type": "execute_result",
          "data": {
            "text/plain": [
              "<matplotlib.axes._subplots.AxesSubplot at 0x7fb9ef6b2550>"
            ]
          },
          "metadata": {},
          "execution_count": 196
        },
        {
          "output_type": "display_data",
          "data": {
            "text/plain": [
              "<Figure size 1080x864 with 2 Axes>"
            ],
            "image/png": "[encoded data removed]"
          },
          "metadata": {
            "needs_background": "light"
          }
        }
      ]
    },
    {
      "cell_type": "code",
      "source": [
        "# checking which features will give us best result\n",
        "corr_df = housing_df_corr[['median_house_value']].abs().sort_values(by=['median_house_value'], ascending=False)\n",
        "row_names = corr_df.iloc[1:, :].index\n",
        "\n",
        "x_df = pd.DataFrame() # features, intially empty\n",
        "y_df = housing_df['median_house_value'] #target\n",
        "\n",
        "linear_regressor = LinearRegression() #model\n",
        "\n",
        "for name in list(row_names):\n",
        "  x_df = pd.concat([x_df, housing_df[[name]]], axis = 1) #combining dataframes\n",
        "\n",
        "  x_train, x_test, y_train, y_test = train_test_split(x_df, y_df, test_size = 0.2, random_state = 45) #split\n",
        "\n",
        "  lr = linear_regressor.fit(x_df, y_df) #fit model\n",
        "\n",
        "  print(\"Training Score: \", lr.score(x_df, y_df)) #r2 score"
      ],
      "metadata": {
        "colab": {
          "base_uri": "https://localhost:8080/"
        },
        "id": "9vNXg6sEJSjV",
        "outputId": "88b472e0-bb53-46bd-bda0-50b553b975ab"
      },
      "execution_count": null,
      "outputs": [
        {
          "output_type": "stream",
          "name": "stdout",
          "text": [
            "Training Score:  0.47383326039767115\n",
            "Training Score:  0.5832249132079954\n",
            "Training Score:  0.5874871608339192\n",
            "Training Score:  0.5875460923148483\n",
            "Training Score:  0.5875488804262803\n",
            "Training Score:  0.588131692218228\n",
            "Training Score:  0.5886876717847412\n",
            "Training Score:  0.6006561543041549\n",
            "Training Score:  0.6058204329458223\n",
            "Training Score:  0.6139686504851121\n",
            "Training Score:  0.624911489652547\n",
            "Training Score:  0.6464638320299037\n",
            "Training Score:  0.6464638320299037\n"
          ]
        }
      ]
    },
    {
      "cell_type": "code",
      "source": [
        "# extracting data\n",
        "# we are selecting all features as this would give us the best model as seen above\n",
        "x = housing_df.drop('median_house_value', axis=1) # features\n",
        "y = housing_df['median_house_value'] #target"
      ],
      "metadata": {
        "id": "ns7WSwz1vS27"
      },
      "execution_count": null,
      "outputs": []
    },
    {
      "cell_type": "code",
      "source": [
        "# splitting data into test and train\n",
        "x_train, x_test, y_train, y_test = train_test_split(x, y, test_size = 0.2, random_state = 45)"
      ],
      "metadata": {
        "id": "7SQWBsJGxP_v"
      },
      "execution_count": null,
      "outputs": []
    },
    {
      "cell_type": "code",
      "source": [
        "# defining and fitting the linear model\n",
        "lr = LinearRegression().fit(x_train, y_train)"
      ],
      "metadata": {
        "id": "Lt6PwQzYxewf"
      },
      "execution_count": null,
      "outputs": []
    },
    {
      "cell_type": "code",
      "source": [
        "# r2 score for training data\n",
        "print(\"Training Score: \", lr.score(x_train, y_train))"
      ],
      "metadata": {
        "colab": {
          "base_uri": "https://localhost:8080/"
        },
        "id": "8spUAKDoyYwf",
        "outputId": "c69b75ae-356a-4525-be4c-03c6e7c69920"
      },
      "execution_count": null,
      "outputs": [
        {
          "output_type": "stream",
          "name": "stdout",
          "text": [
            "Training Score:  0.6480944739155927\n"
          ]
        }
      ]
    },
    {
      "cell_type": "code",
      "source": [
        "# r2 score for test data\n",
        "y_pred = lr.predict(x_test)\n",
        "print(\"Testing score: \", r2_score(y_test, y_pred))"
      ],
      "metadata": {
        "colab": {
          "base_uri": "https://localhost:8080/"
        },
        "id": "W_h0sJ44ykYZ",
        "outputId": "ffb47196-1819-495b-b1a2-3702a2313726"
      },
      "execution_count": null,
      "outputs": [
        {
          "output_type": "stream",
          "name": "stdout",
          "text": [
            "Testing score:  0.6368167545989971\n"
          ]
        }
      ]
    },
    {
      "cell_type": "code",
      "source": [
        "lr.intercept_"
      ],
      "metadata": {
        "colab": {
          "base_uri": "https://localhost:8080/"
        },
        "id": "JkaPpnAM5Xjx",
        "outputId": "d6b1f888-9aee-469f-8bc0-c85b13480e45"
      },
      "execution_count": null,
      "outputs": [
        {
          "output_type": "execute_result",
          "data": {
            "text/plain": [
              "-2318895.930108135"
            ]
          },
          "metadata": {},
          "execution_count": 203
        }
      ]
    },
    {
      "cell_type": "code",
      "source": [
        "lr.coef_"
      ],
      "metadata": {
        "colab": {
          "base_uri": "https://localhost:8080/"
        },
        "id": "8FKoh1pE5bKt",
        "outputId": "4061a25c-e2e9-43ee-c077-37faaa2c4c2a"
      },
      "execution_count": null,
      "outputs": [
        {
          "output_type": "execute_result",
          "data": {
            "text/plain": [
              "array([-2.75922701e+04, -2.60858768e+04,  1.07513510e+03, -6.11705111e+00,\n",
              "        9.96010820e+01, -4.36827919e+01,  6.53233737e+01,  3.94080582e+04,\n",
              "       -2.23703603e+04, -6.10341933e+04,  1.28986357e+05, -2.77937548e+04,\n",
              "       -1.77880482e+04])"
            ]
          },
          "metadata": {},
          "execution_count": 204
        }
      ]
    },
    {
      "cell_type": "code",
      "source": [
        "# we will standardize features except the ocean_proximity column which has categorical data\n",
        "features = ['longitude','latitude','housing_median_age','total_rooms','total_bedrooms','population','households','median_income']\n",
        "x_train_features = x_train[features]\n",
        "scaler = StandardScaler()\n",
        "x_train[features] = scaler.fit_transform(x_train_features)"
      ],
      "metadata": {
        "id": "7g5wBfYO56TO"
      },
      "execution_count": null,
      "outputs": []
    },
    {
      "cell_type": "code",
      "source": [
        "# defining and fitting the sgd model\n",
        "sgdr = SGDRegressor(max_iter=100000, tol=1e-3).fit(x_train, y_train)"
      ],
      "metadata": {
        "id": "HkoL2U0KHpFR"
      },
      "execution_count": null,
      "outputs": []
    },
    {
      "cell_type": "code",
      "source": [
        "# r2 score for training data\n",
        "print(\"Training Score: \", sgdr.score(x_train, y_train))"
      ],
      "metadata": {
        "colab": {
          "base_uri": "https://localhost:8080/"
        },
        "id": "ziXN2npiH-Sk",
        "outputId": "adf07754-52af-4309-e101-9e462ad43e6f"
      },
      "execution_count": null,
      "outputs": [
        {
          "output_type": "stream",
          "name": "stdout",
          "text": [
            "Training Score:  0.6464869388413657\n"
          ]
        }
      ]
    },
    {
      "cell_type": "code",
      "source": [
        "# standardize also for test data\n",
        "test_features = ['longitude','latitude','housing_median_age','total_rooms','total_bedrooms','population','households','median_income']\n",
        "x_test_features = x_test[features]\n",
        "x_test[features] = scaler.fit_transform(x_test_features)"
      ],
      "metadata": {
        "id": "USo6ScdeIGuM"
      },
      "execution_count": null,
      "outputs": []
    },
    {
      "cell_type": "code",
      "source": [
        "# r2 score for test data\n",
        "y_pred = sgdr.predict(x_test)\n",
        "print(\"Testing Score: \", r2_score(y_test, y_pred))"
      ],
      "metadata": {
        "colab": {
          "base_uri": "https://localhost:8080/"
        },
        "id": "5Mgas3l9Its-",
        "outputId": "25bf03bb-b246-436e-de2d-8da0c5cd80f1"
      },
      "execution_count": null,
      "outputs": [
        {
          "output_type": "stream",
          "name": "stdout",
          "text": [
            "Testing Score:  0.6413397106728254\n"
          ]
        }
      ]
    },
    {
      "cell_type": "code",
      "source": [
        "sgdr.coef_"
      ],
      "metadata": {
        "colab": {
          "base_uri": "https://localhost:8080/"
        },
        "id": "VKlNBZTARAOl",
        "outputId": "5293a557-7e21-4ad3-98ac-84001f3970d8"
      },
      "execution_count": null,
      "outputs": [
        {
          "output_type": "execute_result",
          "data": {
            "text/plain": [
              "array([-55222.75327872, -56052.65862443,  12861.16879385, -13517.24314212,\n",
              "        40476.81074543, -48707.16746245,  23879.74401612,  75027.47050271,\n",
              "        47590.27822154,   9406.25958045,  12529.44413637,  43045.77847847,\n",
              "        53265.90797383])"
            ]
          },
          "metadata": {},
          "execution_count": 210
        }
      ]
    },
    {
      "cell_type": "code",
      "source": [
        "sgdr.intercept_"
      ],
      "metadata": {
        "colab": {
          "base_uri": "https://localhost:8080/"
        },
        "id": "n9ynzpKjRE1M",
        "outputId": "ad49a95d-f972-4000-ec42-784a9bdd835a"
      },
      "execution_count": null,
      "outputs": [
        {
          "output_type": "execute_result",
          "data": {
            "text/plain": [
              "array([169326.06938477])"
            ]
          },
          "metadata": {},
          "execution_count": 211
        }
      ]
    }
  ]
}